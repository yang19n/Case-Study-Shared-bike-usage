{
 "cells": [
  {
   "cell_type": "markdown",
   "id": "daf24152",
   "metadata": {},
   "source": [
    "# Google Capstone Project: Shared Bike Analysis"
   ]
  },
  {
   "cell_type": "markdown",
   "id": "df79a501",
   "metadata": {},
   "source": [
    "## Data process and analysis section"
   ]
  },
  {
   "cell_type": "markdown",
   "id": "fd493512",
   "metadata": {},
   "source": [
    "## Import related libraries"
   ]
  },
  {
   "cell_type": "code",
   "execution_count": 1,
   "id": "f30a88a8",
   "metadata": {},
   "outputs": [],
   "source": [
    "import pandas as pd\n",
    "import numpy as np\n",
    "import statsmodels.api as sm\n",
    "import matplotlib.pyplot as plt\n",
    "import datetime as dt\n",
    "import seaborn as sns\n",
    "sns.set()"
   ]
  },
  {
   "cell_type": "markdown",
   "id": "066daea6",
   "metadata": {},
   "source": [
    "## Import raw data"
   ]
  },
  {
   "cell_type": "code",
   "execution_count": 2,
   "id": "d479652d",
   "metadata": {},
   "outputs": [],
   "source": [
    "# data is seperated into 12 different files\n",
    "raw_data_20_08 = pd.read_csv('202008-divvy-tripdata.csv')\n",
    "raw_data_20_09 = pd.read_csv('202009-divvy-tripdata.csv')\n",
    "raw_data_20_10 = pd.read_csv('202010-divvy-tripdata.csv')\n",
    "raw_data_20_11 = pd.read_csv('202011-divvy-tripdata.csv')\n",
    "raw_data_20_12 = pd.read_csv('202012-divvy-tripdata.csv')\n",
    "raw_data_21_01 = pd.read_csv('202101-divvy-tripdata.csv')\n",
    "raw_data_21_02 = pd.read_csv('202102-divvy-tripdata.csv')\n",
    "raw_data_21_03 = pd.read_csv('202103-divvy-tripdata.csv')\n",
    "raw_data_21_04 = pd.read_csv('202104-divvy-tripdata.csv')\n",
    "raw_data_21_05 = pd.read_csv('202105-divvy-tripdata.csv')\n",
    "raw_data_21_06 = pd.read_csv('202106-divvy-tripdata.csv')\n",
    "raw_data_21_07 = pd.read_csv('202107-divvy-tripdata.csv')"
   ]
  },
  {
   "cell_type": "markdown",
   "id": "446ee0d0",
   "metadata": {},
   "source": [
    "## Preview data, modify data type, combine all the data into one file"
   ]
  },
  {
   "cell_type": "code",
   "execution_count": 3,
   "id": "9be6813a",
   "metadata": {},
   "outputs": [
    {
     "data": {
      "text/html": [
       "<div>\n",
       "<style scoped>\n",
       "    .dataframe tbody tr th:only-of-type {\n",
       "        vertical-align: middle;\n",
       "    }\n",
       "\n",
       "    .dataframe tbody tr th {\n",
       "        vertical-align: top;\n",
       "    }\n",
       "\n",
       "    .dataframe thead th {\n",
       "        text-align: right;\n",
       "    }\n",
       "</style>\n",
       "<table border=\"1\" class=\"dataframe\">\n",
       "  <thead>\n",
       "    <tr style=\"text-align: right;\">\n",
       "      <th></th>\n",
       "      <th>ride_id</th>\n",
       "      <th>rideable_type</th>\n",
       "      <th>started_at</th>\n",
       "      <th>ended_at</th>\n",
       "      <th>start_station_name</th>\n",
       "      <th>start_station_id</th>\n",
       "      <th>end_station_name</th>\n",
       "      <th>end_station_id</th>\n",
       "      <th>start_lat</th>\n",
       "      <th>start_lng</th>\n",
       "      <th>end_lat</th>\n",
       "      <th>end_lng</th>\n",
       "      <th>member_casual</th>\n",
       "    </tr>\n",
       "  </thead>\n",
       "  <tbody>\n",
       "    <tr>\n",
       "      <th>0</th>\n",
       "      <td>322BD23D287743ED</td>\n",
       "      <td>docked_bike</td>\n",
       "      <td>2020-08-20 18:08:14</td>\n",
       "      <td>2020-08-20 18:17:51</td>\n",
       "      <td>Lake Shore Dr &amp; Diversey Pkwy</td>\n",
       "      <td>329.0</td>\n",
       "      <td>Clark St &amp; Lincoln Ave</td>\n",
       "      <td>141.0</td>\n",
       "      <td>41.932588</td>\n",
       "      <td>-87.636427</td>\n",
       "      <td>41.915689</td>\n",
       "      <td>-87.634600</td>\n",
       "      <td>member</td>\n",
       "    </tr>\n",
       "    <tr>\n",
       "      <th>1</th>\n",
       "      <td>2A3AEF1AB9054D8B</td>\n",
       "      <td>electric_bike</td>\n",
       "      <td>2020-08-27 18:46:04</td>\n",
       "      <td>2020-08-27 19:54:51</td>\n",
       "      <td>Michigan Ave &amp; 14th St</td>\n",
       "      <td>168.0</td>\n",
       "      <td>Michigan Ave &amp; 14th St</td>\n",
       "      <td>168.0</td>\n",
       "      <td>41.864379</td>\n",
       "      <td>-87.623681</td>\n",
       "      <td>41.864221</td>\n",
       "      <td>-87.623439</td>\n",
       "      <td>casual</td>\n",
       "    </tr>\n",
       "    <tr>\n",
       "      <th>2</th>\n",
       "      <td>67DC1D133E8B5816</td>\n",
       "      <td>electric_bike</td>\n",
       "      <td>2020-08-26 19:44:14</td>\n",
       "      <td>2020-08-26 21:53:07</td>\n",
       "      <td>Columbus Dr &amp; Randolph St</td>\n",
       "      <td>195.0</td>\n",
       "      <td>State St &amp; Randolph St</td>\n",
       "      <td>44.0</td>\n",
       "      <td>41.884641</td>\n",
       "      <td>-87.619549</td>\n",
       "      <td>41.884971</td>\n",
       "      <td>-87.627574</td>\n",
       "      <td>casual</td>\n",
       "    </tr>\n",
       "    <tr>\n",
       "      <th>3</th>\n",
       "      <td>C79FBBD412E578A7</td>\n",
       "      <td>electric_bike</td>\n",
       "      <td>2020-08-27 12:05:41</td>\n",
       "      <td>2020-08-27 12:53:45</td>\n",
       "      <td>Daley Center Plaza</td>\n",
       "      <td>81.0</td>\n",
       "      <td>State St &amp; Kinzie St</td>\n",
       "      <td>47.0</td>\n",
       "      <td>41.884093</td>\n",
       "      <td>-87.629639</td>\n",
       "      <td>41.889583</td>\n",
       "      <td>-87.627540</td>\n",
       "      <td>casual</td>\n",
       "    </tr>\n",
       "    <tr>\n",
       "      <th>4</th>\n",
       "      <td>13814D3D661ECADB</td>\n",
       "      <td>electric_bike</td>\n",
       "      <td>2020-08-27 16:49:02</td>\n",
       "      <td>2020-08-27 16:59:49</td>\n",
       "      <td>Leavitt St &amp; Division St</td>\n",
       "      <td>658.0</td>\n",
       "      <td>Leavitt St &amp; Division St</td>\n",
       "      <td>658.0</td>\n",
       "      <td>41.902989</td>\n",
       "      <td>-87.683767</td>\n",
       "      <td>41.903002</td>\n",
       "      <td>-87.683844</td>\n",
       "      <td>casual</td>\n",
       "    </tr>\n",
       "  </tbody>\n",
       "</table>\n",
       "</div>"
      ],
      "text/plain": [
       "            ride_id  rideable_type           started_at             ended_at  \\\n",
       "0  322BD23D287743ED    docked_bike  2020-08-20 18:08:14  2020-08-20 18:17:51   \n",
       "1  2A3AEF1AB9054D8B  electric_bike  2020-08-27 18:46:04  2020-08-27 19:54:51   \n",
       "2  67DC1D133E8B5816  electric_bike  2020-08-26 19:44:14  2020-08-26 21:53:07   \n",
       "3  C79FBBD412E578A7  electric_bike  2020-08-27 12:05:41  2020-08-27 12:53:45   \n",
       "4  13814D3D661ECADB  electric_bike  2020-08-27 16:49:02  2020-08-27 16:59:49   \n",
       "\n",
       "              start_station_name  start_station_id          end_station_name  \\\n",
       "0  Lake Shore Dr & Diversey Pkwy             329.0    Clark St & Lincoln Ave   \n",
       "1         Michigan Ave & 14th St             168.0    Michigan Ave & 14th St   \n",
       "2      Columbus Dr & Randolph St             195.0    State St & Randolph St   \n",
       "3             Daley Center Plaza              81.0      State St & Kinzie St   \n",
       "4       Leavitt St & Division St             658.0  Leavitt St & Division St   \n",
       "\n",
       "   end_station_id  start_lat  start_lng    end_lat    end_lng member_casual  \n",
       "0           141.0  41.932588 -87.636427  41.915689 -87.634600        member  \n",
       "1           168.0  41.864379 -87.623681  41.864221 -87.623439        casual  \n",
       "2            44.0  41.884641 -87.619549  41.884971 -87.627574        casual  \n",
       "3            47.0  41.884093 -87.629639  41.889583 -87.627540        casual  \n",
       "4           658.0  41.902989 -87.683767  41.903002 -87.683844        casual  "
      ]
     },
     "execution_count": 3,
     "metadata": {},
     "output_type": "execute_result"
    }
   ],
   "source": [
    "raw_data_20_08.head()"
   ]
  },
  {
   "cell_type": "code",
   "execution_count": 4,
   "id": "ef77ddcc",
   "metadata": {},
   "outputs": [
    {
     "name": "stdout",
     "output_type": "stream",
     "text": [
      "<class 'pandas.core.frame.DataFrame'>\n",
      "RangeIndex: 622361 entries, 0 to 622360\n",
      "Data columns (total 13 columns):\n",
      " #   Column              Non-Null Count   Dtype  \n",
      "---  ------              --------------   -----  \n",
      " 0   ride_id             622361 non-null  object \n",
      " 1   rideable_type       622361 non-null  object \n",
      " 2   started_at          622361 non-null  object \n",
      " 3   ended_at            622361 non-null  object \n",
      " 4   start_station_name  614766 non-null  object \n",
      " 5   start_station_id    614670 non-null  float64\n",
      " 6   end_station_name    612326 non-null  object \n",
      " 7   end_station_id      612251 non-null  float64\n",
      " 8   start_lat           622361 non-null  float64\n",
      " 9   start_lng           622361 non-null  float64\n",
      " 10  end_lat             621423 non-null  float64\n",
      " 11  end_lng             621423 non-null  float64\n",
      " 12  member_casual       622361 non-null  object \n",
      "dtypes: float64(6), object(7)\n",
      "memory usage: 61.7+ MB\n"
     ]
    }
   ],
   "source": [
    "raw_data_20_08.info()"
   ]
  },
  {
   "cell_type": "code",
   "execution_count": 5,
   "id": "8f256921",
   "metadata": {},
   "outputs": [
    {
     "name": "stdout",
     "output_type": "stream",
     "text": [
      "<class 'pandas.core.frame.DataFrame'>\n",
      "RangeIndex: 532958 entries, 0 to 532957\n",
      "Data columns (total 13 columns):\n",
      " #   Column              Non-Null Count   Dtype  \n",
      "---  ------              --------------   -----  \n",
      " 0   ride_id             532958 non-null  object \n",
      " 1   rideable_type       532958 non-null  object \n",
      " 2   started_at          532958 non-null  object \n",
      " 3   ended_at            532958 non-null  object \n",
      " 4   start_station_name  513267 non-null  object \n",
      " 5   start_station_id    513057 non-null  float64\n",
      " 6   end_station_name    509585 non-null  object \n",
      " 7   end_station_id      509434 non-null  float64\n",
      " 8   start_lat           532958 non-null  float64\n",
      " 9   start_lng           532958 non-null  float64\n",
      " 10  end_lat             532169 non-null  float64\n",
      " 11  end_lng             532169 non-null  float64\n",
      " 12  member_casual       532958 non-null  object \n",
      "dtypes: float64(6), object(7)\n",
      "memory usage: 52.9+ MB\n"
     ]
    }
   ],
   "source": [
    "raw_data_20_09.info()"
   ]
  },
  {
   "cell_type": "code",
   "execution_count": 6,
   "id": "01aa9e54",
   "metadata": {},
   "outputs": [
    {
     "name": "stdout",
     "output_type": "stream",
     "text": [
      "<class 'pandas.core.frame.DataFrame'>\n",
      "RangeIndex: 388653 entries, 0 to 388652\n",
      "Data columns (total 13 columns):\n",
      " #   Column              Non-Null Count   Dtype  \n",
      "---  ------              --------------   -----  \n",
      " 0   ride_id             388653 non-null  object \n",
      " 1   rideable_type       388653 non-null  object \n",
      " 2   started_at          388653 non-null  object \n",
      " 3   ended_at            388653 non-null  object \n",
      " 4   start_station_name  357455 non-null  object \n",
      " 5   start_station_id    357248 non-null  float64\n",
      " 6   end_station_name    353022 non-null  object \n",
      " 7   end_station_id      352866 non-null  float64\n",
      " 8   start_lat           388653 non-null  float64\n",
      " 9   start_lng           388653 non-null  float64\n",
      " 10  end_lat             388179 non-null  float64\n",
      " 11  end_lng             388179 non-null  float64\n",
      " 12  member_casual       388653 non-null  object \n",
      "dtypes: float64(6), object(7)\n",
      "memory usage: 38.5+ MB\n"
     ]
    }
   ],
   "source": [
    "raw_data_20_10.info()"
   ]
  },
  {
   "cell_type": "code",
   "execution_count": 7,
   "id": "4c9cbe5a",
   "metadata": {},
   "outputs": [
    {
     "name": "stdout",
     "output_type": "stream",
     "text": [
      "<class 'pandas.core.frame.DataFrame'>\n",
      "RangeIndex: 259716 entries, 0 to 259715\n",
      "Data columns (total 13 columns):\n",
      " #   Column              Non-Null Count   Dtype  \n",
      "---  ------              --------------   -----  \n",
      " 0   ride_id             259716 non-null  object \n",
      " 1   rideable_type       259716 non-null  object \n",
      " 2   started_at          259716 non-null  object \n",
      " 3   ended_at            259716 non-null  object \n",
      " 4   start_station_name  235392 non-null  object \n",
      " 5   start_station_id    235282 non-null  float64\n",
      " 6   end_station_name    232967 non-null  object \n",
      " 7   end_station_id      232890 non-null  float64\n",
      " 8   start_lat           259716 non-null  float64\n",
      " 9   start_lng           259716 non-null  float64\n",
      " 10  end_lat             259432 non-null  float64\n",
      " 11  end_lng             259432 non-null  float64\n",
      " 12  member_casual       259716 non-null  object \n",
      "dtypes: float64(6), object(7)\n",
      "memory usage: 25.8+ MB\n"
     ]
    }
   ],
   "source": [
    "raw_data_20_11.info()"
   ]
  },
  {
   "cell_type": "code",
   "execution_count": 8,
   "id": "048b342a",
   "metadata": {},
   "outputs": [
    {
     "name": "stdout",
     "output_type": "stream",
     "text": [
      "<class 'pandas.core.frame.DataFrame'>\n",
      "RangeIndex: 131573 entries, 0 to 131572\n",
      "Data columns (total 13 columns):\n",
      " #   Column              Non-Null Count   Dtype  \n",
      "---  ------              --------------   -----  \n",
      " 0   ride_id             131573 non-null  object \n",
      " 1   rideable_type       131573 non-null  object \n",
      " 2   started_at          131573 non-null  object \n",
      " 3   ended_at            131573 non-null  object \n",
      " 4   start_station_name  119874 non-null  object \n",
      " 5   start_station_id    119874 non-null  object \n",
      " 6   end_station_name    118336 non-null  object \n",
      " 7   end_station_id      118336 non-null  object \n",
      " 8   start_lat           131573 non-null  float64\n",
      " 9   start_lng           131573 non-null  float64\n",
      " 10  end_lat             131462 non-null  float64\n",
      " 11  end_lng             131462 non-null  float64\n",
      " 12  member_casual       131573 non-null  object \n",
      "dtypes: float64(4), object(9)\n",
      "memory usage: 13.0+ MB\n"
     ]
    }
   ],
   "source": [
    "raw_data_20_12.info()"
   ]
  },
  {
   "cell_type": "code",
   "execution_count": 9,
   "id": "587959aa",
   "metadata": {},
   "outputs": [
    {
     "name": "stdout",
     "output_type": "stream",
     "text": [
      "<class 'pandas.core.frame.DataFrame'>\n",
      "RangeIndex: 96834 entries, 0 to 96833\n",
      "Data columns (total 13 columns):\n",
      " #   Column              Non-Null Count  Dtype  \n",
      "---  ------              --------------  -----  \n",
      " 0   ride_id             96834 non-null  object \n",
      " 1   rideable_type       96834 non-null  object \n",
      " 2   started_at          96834 non-null  object \n",
      " 3   ended_at            96834 non-null  object \n",
      " 4   start_station_name  88209 non-null  object \n",
      " 5   start_station_id    88209 non-null  object \n",
      " 6   end_station_name    86557 non-null  object \n",
      " 7   end_station_id      86557 non-null  object \n",
      " 8   start_lat           96834 non-null  float64\n",
      " 9   start_lng           96834 non-null  float64\n",
      " 10  end_lat             96731 non-null  float64\n",
      " 11  end_lng             96731 non-null  float64\n",
      " 12  member_casual       96834 non-null  object \n",
      "dtypes: float64(4), object(9)\n",
      "memory usage: 9.6+ MB\n"
     ]
    }
   ],
   "source": [
    "raw_data_21_01.info()"
   ]
  },
  {
   "cell_type": "code",
   "execution_count": 10,
   "id": "0eb24729",
   "metadata": {},
   "outputs": [
    {
     "name": "stdout",
     "output_type": "stream",
     "text": [
      "<class 'pandas.core.frame.DataFrame'>\n",
      "RangeIndex: 49622 entries, 0 to 49621\n",
      "Data columns (total 13 columns):\n",
      " #   Column              Non-Null Count  Dtype  \n",
      "---  ------              --------------  -----  \n",
      " 0   ride_id             49622 non-null  object \n",
      " 1   rideable_type       49622 non-null  object \n",
      " 2   started_at          49622 non-null  object \n",
      " 3   ended_at            49622 non-null  object \n",
      " 4   start_station_name  45576 non-null  object \n",
      " 5   start_station_id    45576 non-null  object \n",
      " 6   end_station_name    44264 non-null  object \n",
      " 7   end_station_id      44264 non-null  object \n",
      " 8   start_lat           49622 non-null  float64\n",
      " 9   start_lng           49622 non-null  float64\n",
      " 10  end_lat             49408 non-null  float64\n",
      " 11  end_lng             49408 non-null  float64\n",
      " 12  member_casual       49622 non-null  object \n",
      "dtypes: float64(4), object(9)\n",
      "memory usage: 4.9+ MB\n"
     ]
    }
   ],
   "source": [
    "raw_data_21_02.info()"
   ]
  },
  {
   "cell_type": "code",
   "execution_count": 11,
   "id": "039eb10d",
   "metadata": {},
   "outputs": [
    {
     "name": "stdout",
     "output_type": "stream",
     "text": [
      "<class 'pandas.core.frame.DataFrame'>\n",
      "RangeIndex: 228496 entries, 0 to 228495\n",
      "Data columns (total 13 columns):\n",
      " #   Column              Non-Null Count   Dtype  \n",
      "---  ------              --------------   -----  \n",
      " 0   ride_id             228496 non-null  object \n",
      " 1   rideable_type       228496 non-null  object \n",
      " 2   started_at          228496 non-null  object \n",
      " 3   ended_at            228496 non-null  object \n",
      " 4   start_station_name  213648 non-null  object \n",
      " 5   start_station_id    213648 non-null  object \n",
      " 6   end_station_name    211769 non-null  object \n",
      " 7   end_station_id      211769 non-null  object \n",
      " 8   start_lat           228496 non-null  float64\n",
      " 9   start_lng           228496 non-null  float64\n",
      " 10  end_lat             228329 non-null  float64\n",
      " 11  end_lng             228329 non-null  float64\n",
      " 12  member_casual       228496 non-null  object \n",
      "dtypes: float64(4), object(9)\n",
      "memory usage: 22.7+ MB\n"
     ]
    }
   ],
   "source": [
    "raw_data_21_03.info()"
   ]
  },
  {
   "cell_type": "code",
   "execution_count": 12,
   "id": "befec98c",
   "metadata": {},
   "outputs": [
    {
     "name": "stdout",
     "output_type": "stream",
     "text": [
      "<class 'pandas.core.frame.DataFrame'>\n",
      "RangeIndex: 337230 entries, 0 to 337229\n",
      "Data columns (total 13 columns):\n",
      " #   Column              Non-Null Count   Dtype  \n",
      "---  ------              --------------   -----  \n",
      " 0   ride_id             337230 non-null  object \n",
      " 1   rideable_type       337230 non-null  object \n",
      " 2   started_at          337230 non-null  object \n",
      " 3   ended_at            337230 non-null  object \n",
      " 4   start_station_name  311174 non-null  object \n",
      " 5   start_station_id    311174 non-null  object \n",
      " 6   end_station_name    309056 non-null  object \n",
      " 7   end_station_id      309056 non-null  object \n",
      " 8   start_lat           337230 non-null  float64\n",
      " 9   start_lng           337230 non-null  float64\n",
      " 10  end_lat             336963 non-null  float64\n",
      " 11  end_lng             336963 non-null  float64\n",
      " 12  member_casual       337230 non-null  object \n",
      "dtypes: float64(4), object(9)\n",
      "memory usage: 33.4+ MB\n"
     ]
    }
   ],
   "source": [
    "raw_data_21_04.info()"
   ]
  },
  {
   "cell_type": "code",
   "execution_count": 13,
   "id": "95fc9c2d",
   "metadata": {},
   "outputs": [
    {
     "name": "stdout",
     "output_type": "stream",
     "text": [
      "<class 'pandas.core.frame.DataFrame'>\n",
      "RangeIndex: 531633 entries, 0 to 531632\n",
      "Data columns (total 13 columns):\n",
      " #   Column              Non-Null Count   Dtype  \n",
      "---  ------              --------------   -----  \n",
      " 0   ride_id             531633 non-null  object \n",
      " 1   rideable_type       531633 non-null  object \n",
      " 2   started_at          531633 non-null  object \n",
      " 3   ended_at            531633 non-null  object \n",
      " 4   start_station_name  477889 non-null  object \n",
      " 5   start_station_id    477889 non-null  object \n",
      " 6   end_station_name    473439 non-null  object \n",
      " 7   end_station_id      473439 non-null  object \n",
      " 8   start_lat           531633 non-null  float64\n",
      " 9   start_lng           531633 non-null  float64\n",
      " 10  end_lat             531181 non-null  float64\n",
      " 11  end_lng             531181 non-null  float64\n",
      " 12  member_casual       531633 non-null  object \n",
      "dtypes: float64(4), object(9)\n",
      "memory usage: 52.7+ MB\n"
     ]
    }
   ],
   "source": [
    "raw_data_21_05.info()"
   ]
  },
  {
   "cell_type": "code",
   "execution_count": 14,
   "id": "52b95cd2",
   "metadata": {},
   "outputs": [
    {
     "name": "stdout",
     "output_type": "stream",
     "text": [
      "<class 'pandas.core.frame.DataFrame'>\n",
      "RangeIndex: 729595 entries, 0 to 729594\n",
      "Data columns (total 13 columns):\n",
      " #   Column              Non-Null Count   Dtype  \n",
      "---  ------              --------------   -----  \n",
      " 0   ride_id             729595 non-null  object \n",
      " 1   rideable_type       729595 non-null  object \n",
      " 2   started_at          729595 non-null  object \n",
      " 3   ended_at            729595 non-null  object \n",
      " 4   start_station_name  649502 non-null  object \n",
      " 5   start_station_id    649502 non-null  object \n",
      " 6   end_station_name    643208 non-null  object \n",
      " 7   end_station_id      643208 non-null  object \n",
      " 8   start_lat           729595 non-null  float64\n",
      " 9   start_lng           729595 non-null  float64\n",
      " 10  end_lat             728878 non-null  float64\n",
      " 11  end_lng             728878 non-null  float64\n",
      " 12  member_casual       729595 non-null  object \n",
      "dtypes: float64(4), object(9)\n",
      "memory usage: 72.4+ MB\n"
     ]
    }
   ],
   "source": [
    "raw_data_21_06.info()"
   ]
  },
  {
   "cell_type": "code",
   "execution_count": 15,
   "id": "29149dd7",
   "metadata": {},
   "outputs": [
    {
     "name": "stdout",
     "output_type": "stream",
     "text": [
      "<class 'pandas.core.frame.DataFrame'>\n",
      "RangeIndex: 822410 entries, 0 to 822409\n",
      "Data columns (total 13 columns):\n",
      " #   Column              Non-Null Count   Dtype  \n",
      "---  ------              --------------   -----  \n",
      " 0   ride_id             822410 non-null  object \n",
      " 1   rideable_type       822410 non-null  object \n",
      " 2   started_at          822410 non-null  object \n",
      " 3   ended_at            822410 non-null  object \n",
      " 4   start_station_name  735147 non-null  object \n",
      " 5   start_station_id    735148 non-null  object \n",
      " 6   end_station_name    729252 non-null  object \n",
      " 7   end_station_id      729252 non-null  object \n",
      " 8   start_lat           822410 non-null  float64\n",
      " 9   start_lng           822410 non-null  float64\n",
      " 10  end_lat             821679 non-null  float64\n",
      " 11  end_lng             821679 non-null  float64\n",
      " 12  member_casual       822410 non-null  object \n",
      "dtypes: float64(4), object(9)\n",
      "memory usage: 81.6+ MB\n"
     ]
    }
   ],
   "source": [
    "raw_data_21_07.info()"
   ]
  },
  {
   "cell_type": "code",
   "execution_count": 16,
   "id": "2ff1b2fa",
   "metadata": {},
   "outputs": [],
   "source": [
    "# note that from file \"20_08\" to \"20_11\" the data type of stattion_id are \"float\". Convert data type to \"object\"\n",
    "raw_data_20_08[['start_station_id','end_station_id']] = raw_data_20_08[['start_station_id','end_station_id']].astype('object')\n",
    "raw_data_20_09[['start_station_id','end_station_id']] = raw_data_20_09[['start_station_id','end_station_id']].astype('object')\n",
    "raw_data_20_10[['start_station_id','end_station_id']] = raw_data_20_10[['start_station_id','end_station_id']].astype('object')\n",
    "raw_data_20_11[['start_station_id','end_station_id']] = raw_data_20_11[['start_station_id','end_station_id']].astype('object')"
   ]
  },
  {
   "cell_type": "code",
   "execution_count": 17,
   "id": "d3b9fbb9",
   "metadata": {},
   "outputs": [
    {
     "name": "stdout",
     "output_type": "stream",
     "text": [
      "<class 'pandas.core.frame.DataFrame'>\n",
      "RangeIndex: 622361 entries, 0 to 622360\n",
      "Data columns (total 13 columns):\n",
      " #   Column              Non-Null Count   Dtype  \n",
      "---  ------              --------------   -----  \n",
      " 0   ride_id             622361 non-null  object \n",
      " 1   rideable_type       622361 non-null  object \n",
      " 2   started_at          622361 non-null  object \n",
      " 3   ended_at            622361 non-null  object \n",
      " 4   start_station_name  614766 non-null  object \n",
      " 5   start_station_id    614670 non-null  object \n",
      " 6   end_station_name    612326 non-null  object \n",
      " 7   end_station_id      612251 non-null  object \n",
      " 8   start_lat           622361 non-null  float64\n",
      " 9   start_lng           622361 non-null  float64\n",
      " 10  end_lat             621423 non-null  float64\n",
      " 11  end_lng             621423 non-null  float64\n",
      " 12  member_casual       622361 non-null  object \n",
      "dtypes: float64(4), object(9)\n",
      "memory usage: 61.7+ MB\n"
     ]
    }
   ],
   "source": [
    "raw_data_20_08.info()"
   ]
  },
  {
   "cell_type": "code",
   "execution_count": 18,
   "id": "c322d6c0",
   "metadata": {},
   "outputs": [],
   "source": [
    "# combine all dataset into one file\n",
    "raw_data_merge = raw_data_20_08.append([raw_data_20_09,raw_data_20_10,raw_data_20_11,raw_data_20_12,\n",
    "                                        raw_data_21_01,raw_data_21_02,raw_data_21_03,\n",
    "                                        raw_data_21_04,raw_data_21_05,raw_data_21_06,raw_data_21_07])"
   ]
  },
  {
   "cell_type": "code",
   "execution_count": 19,
   "id": "9c5329f0",
   "metadata": {},
   "outputs": [
    {
     "data": {
      "text/html": [
       "<div>\n",
       "<style scoped>\n",
       "    .dataframe tbody tr th:only-of-type {\n",
       "        vertical-align: middle;\n",
       "    }\n",
       "\n",
       "    .dataframe tbody tr th {\n",
       "        vertical-align: top;\n",
       "    }\n",
       "\n",
       "    .dataframe thead th {\n",
       "        text-align: right;\n",
       "    }\n",
       "</style>\n",
       "<table border=\"1\" class=\"dataframe\">\n",
       "  <thead>\n",
       "    <tr style=\"text-align: right;\">\n",
       "      <th></th>\n",
       "      <th>ride_id</th>\n",
       "      <th>rideable_type</th>\n",
       "      <th>started_at</th>\n",
       "      <th>ended_at</th>\n",
       "      <th>start_station_name</th>\n",
       "      <th>start_station_id</th>\n",
       "      <th>end_station_name</th>\n",
       "      <th>end_station_id</th>\n",
       "      <th>start_lat</th>\n",
       "      <th>start_lng</th>\n",
       "      <th>end_lat</th>\n",
       "      <th>end_lng</th>\n",
       "      <th>member_casual</th>\n",
       "    </tr>\n",
       "  </thead>\n",
       "  <tbody>\n",
       "    <tr>\n",
       "      <th>0</th>\n",
       "      <td>322BD23D287743ED</td>\n",
       "      <td>docked_bike</td>\n",
       "      <td>2020-08-20 18:08:14</td>\n",
       "      <td>2020-08-20 18:17:51</td>\n",
       "      <td>Lake Shore Dr &amp; Diversey Pkwy</td>\n",
       "      <td>329.0</td>\n",
       "      <td>Clark St &amp; Lincoln Ave</td>\n",
       "      <td>141.0</td>\n",
       "      <td>41.932588</td>\n",
       "      <td>-87.636427</td>\n",
       "      <td>41.915689</td>\n",
       "      <td>-87.634600</td>\n",
       "      <td>member</td>\n",
       "    </tr>\n",
       "    <tr>\n",
       "      <th>1</th>\n",
       "      <td>2A3AEF1AB9054D8B</td>\n",
       "      <td>electric_bike</td>\n",
       "      <td>2020-08-27 18:46:04</td>\n",
       "      <td>2020-08-27 19:54:51</td>\n",
       "      <td>Michigan Ave &amp; 14th St</td>\n",
       "      <td>168.0</td>\n",
       "      <td>Michigan Ave &amp; 14th St</td>\n",
       "      <td>168.0</td>\n",
       "      <td>41.864379</td>\n",
       "      <td>-87.623681</td>\n",
       "      <td>41.864221</td>\n",
       "      <td>-87.623439</td>\n",
       "      <td>casual</td>\n",
       "    </tr>\n",
       "    <tr>\n",
       "      <th>2</th>\n",
       "      <td>67DC1D133E8B5816</td>\n",
       "      <td>electric_bike</td>\n",
       "      <td>2020-08-26 19:44:14</td>\n",
       "      <td>2020-08-26 21:53:07</td>\n",
       "      <td>Columbus Dr &amp; Randolph St</td>\n",
       "      <td>195.0</td>\n",
       "      <td>State St &amp; Randolph St</td>\n",
       "      <td>44.0</td>\n",
       "      <td>41.884641</td>\n",
       "      <td>-87.619549</td>\n",
       "      <td>41.884971</td>\n",
       "      <td>-87.627574</td>\n",
       "      <td>casual</td>\n",
       "    </tr>\n",
       "    <tr>\n",
       "      <th>3</th>\n",
       "      <td>C79FBBD412E578A7</td>\n",
       "      <td>electric_bike</td>\n",
       "      <td>2020-08-27 12:05:41</td>\n",
       "      <td>2020-08-27 12:53:45</td>\n",
       "      <td>Daley Center Plaza</td>\n",
       "      <td>81.0</td>\n",
       "      <td>State St &amp; Kinzie St</td>\n",
       "      <td>47.0</td>\n",
       "      <td>41.884093</td>\n",
       "      <td>-87.629639</td>\n",
       "      <td>41.889583</td>\n",
       "      <td>-87.627540</td>\n",
       "      <td>casual</td>\n",
       "    </tr>\n",
       "    <tr>\n",
       "      <th>4</th>\n",
       "      <td>13814D3D661ECADB</td>\n",
       "      <td>electric_bike</td>\n",
       "      <td>2020-08-27 16:49:02</td>\n",
       "      <td>2020-08-27 16:59:49</td>\n",
       "      <td>Leavitt St &amp; Division St</td>\n",
       "      <td>658.0</td>\n",
       "      <td>Leavitt St &amp; Division St</td>\n",
       "      <td>658.0</td>\n",
       "      <td>41.902989</td>\n",
       "      <td>-87.683767</td>\n",
       "      <td>41.903002</td>\n",
       "      <td>-87.683844</td>\n",
       "      <td>casual</td>\n",
       "    </tr>\n",
       "    <tr>\n",
       "      <th>...</th>\n",
       "      <td>...</td>\n",
       "      <td>...</td>\n",
       "      <td>...</td>\n",
       "      <td>...</td>\n",
       "      <td>...</td>\n",
       "      <td>...</td>\n",
       "      <td>...</td>\n",
       "      <td>...</td>\n",
       "      <td>...</td>\n",
       "      <td>...</td>\n",
       "      <td>...</td>\n",
       "      <td>...</td>\n",
       "      <td>...</td>\n",
       "    </tr>\n",
       "    <tr>\n",
       "      <th>4731076</th>\n",
       "      <td>1E660BF8DCDAAAB6</td>\n",
       "      <td>electric_bike</td>\n",
       "      <td>2021-07-04 10:40:41</td>\n",
       "      <td>2021-07-04 11:30:13</td>\n",
       "      <td>NaN</td>\n",
       "      <td>NaN</td>\n",
       "      <td>NaN</td>\n",
       "      <td>NaN</td>\n",
       "      <td>41.720000</td>\n",
       "      <td>-87.680000</td>\n",
       "      <td>41.770000</td>\n",
       "      <td>-87.660000</td>\n",
       "      <td>member</td>\n",
       "    </tr>\n",
       "    <tr>\n",
       "      <th>4731077</th>\n",
       "      <td>A2448BDFD9B3653D</td>\n",
       "      <td>electric_bike</td>\n",
       "      <td>2021-07-04 12:47:41</td>\n",
       "      <td>2021-07-04 12:54:46</td>\n",
       "      <td>NaN</td>\n",
       "      <td>NaN</td>\n",
       "      <td>NaN</td>\n",
       "      <td>NaN</td>\n",
       "      <td>41.770000</td>\n",
       "      <td>-87.660000</td>\n",
       "      <td>41.780000</td>\n",
       "      <td>-87.660000</td>\n",
       "      <td>member</td>\n",
       "    </tr>\n",
       "    <tr>\n",
       "      <th>4731078</th>\n",
       "      <td>2D612BF8530379DA</td>\n",
       "      <td>electric_bike</td>\n",
       "      <td>2021-07-03 21:41:58</td>\n",
       "      <td>2021-07-03 21:57:14</td>\n",
       "      <td>NaN</td>\n",
       "      <td>NaN</td>\n",
       "      <td>NaN</td>\n",
       "      <td>NaN</td>\n",
       "      <td>41.720000</td>\n",
       "      <td>-87.680000</td>\n",
       "      <td>41.720000</td>\n",
       "      <td>-87.680000</td>\n",
       "      <td>member</td>\n",
       "    </tr>\n",
       "    <tr>\n",
       "      <th>4731079</th>\n",
       "      <td>6D615D18B765C9B3</td>\n",
       "      <td>electric_bike</td>\n",
       "      <td>2021-07-03 22:10:31</td>\n",
       "      <td>2021-07-03 22:11:39</td>\n",
       "      <td>NaN</td>\n",
       "      <td>NaN</td>\n",
       "      <td>NaN</td>\n",
       "      <td>NaN</td>\n",
       "      <td>41.720000</td>\n",
       "      <td>-87.680000</td>\n",
       "      <td>41.720000</td>\n",
       "      <td>-87.680000</td>\n",
       "      <td>member</td>\n",
       "    </tr>\n",
       "    <tr>\n",
       "      <th>4731080</th>\n",
       "      <td>0F31D311323F0048</td>\n",
       "      <td>electric_bike</td>\n",
       "      <td>2021-07-04 07:03:50</td>\n",
       "      <td>2021-07-04 07:32:38</td>\n",
       "      <td>NaN</td>\n",
       "      <td>NaN</td>\n",
       "      <td>NaN</td>\n",
       "      <td>NaN</td>\n",
       "      <td>41.720000</td>\n",
       "      <td>-87.680000</td>\n",
       "      <td>41.720000</td>\n",
       "      <td>-87.680000</td>\n",
       "      <td>member</td>\n",
       "    </tr>\n",
       "  </tbody>\n",
       "</table>\n",
       "<p>4731081 rows × 13 columns</p>\n",
       "</div>"
      ],
      "text/plain": [
       "                  ride_id  rideable_type           started_at  \\\n",
       "0        322BD23D287743ED    docked_bike  2020-08-20 18:08:14   \n",
       "1        2A3AEF1AB9054D8B  electric_bike  2020-08-27 18:46:04   \n",
       "2        67DC1D133E8B5816  electric_bike  2020-08-26 19:44:14   \n",
       "3        C79FBBD412E578A7  electric_bike  2020-08-27 12:05:41   \n",
       "4        13814D3D661ECADB  electric_bike  2020-08-27 16:49:02   \n",
       "...                   ...            ...                  ...   \n",
       "4731076  1E660BF8DCDAAAB6  electric_bike  2021-07-04 10:40:41   \n",
       "4731077  A2448BDFD9B3653D  electric_bike  2021-07-04 12:47:41   \n",
       "4731078  2D612BF8530379DA  electric_bike  2021-07-03 21:41:58   \n",
       "4731079  6D615D18B765C9B3  electric_bike  2021-07-03 22:10:31   \n",
       "4731080  0F31D311323F0048  electric_bike  2021-07-04 07:03:50   \n",
       "\n",
       "                    ended_at             start_station_name start_station_id  \\\n",
       "0        2020-08-20 18:17:51  Lake Shore Dr & Diversey Pkwy            329.0   \n",
       "1        2020-08-27 19:54:51         Michigan Ave & 14th St            168.0   \n",
       "2        2020-08-26 21:53:07      Columbus Dr & Randolph St            195.0   \n",
       "3        2020-08-27 12:53:45             Daley Center Plaza             81.0   \n",
       "4        2020-08-27 16:59:49       Leavitt St & Division St            658.0   \n",
       "...                      ...                            ...              ...   \n",
       "4731076  2021-07-04 11:30:13                            NaN              NaN   \n",
       "4731077  2021-07-04 12:54:46                            NaN              NaN   \n",
       "4731078  2021-07-03 21:57:14                            NaN              NaN   \n",
       "4731079  2021-07-03 22:11:39                            NaN              NaN   \n",
       "4731080  2021-07-04 07:32:38                            NaN              NaN   \n",
       "\n",
       "                 end_station_name end_station_id  start_lat  start_lng  \\\n",
       "0          Clark St & Lincoln Ave          141.0  41.932588 -87.636427   \n",
       "1          Michigan Ave & 14th St          168.0  41.864379 -87.623681   \n",
       "2          State St & Randolph St           44.0  41.884641 -87.619549   \n",
       "3            State St & Kinzie St           47.0  41.884093 -87.629639   \n",
       "4        Leavitt St & Division St          658.0  41.902989 -87.683767   \n",
       "...                           ...            ...        ...        ...   \n",
       "4731076                       NaN            NaN  41.720000 -87.680000   \n",
       "4731077                       NaN            NaN  41.770000 -87.660000   \n",
       "4731078                       NaN            NaN  41.720000 -87.680000   \n",
       "4731079                       NaN            NaN  41.720000 -87.680000   \n",
       "4731080                       NaN            NaN  41.720000 -87.680000   \n",
       "\n",
       "           end_lat    end_lng member_casual  \n",
       "0        41.915689 -87.634600        member  \n",
       "1        41.864221 -87.623439        casual  \n",
       "2        41.884971 -87.627574        casual  \n",
       "3        41.889583 -87.627540        casual  \n",
       "4        41.903002 -87.683844        casual  \n",
       "...            ...        ...           ...  \n",
       "4731076  41.770000 -87.660000        member  \n",
       "4731077  41.780000 -87.660000        member  \n",
       "4731078  41.720000 -87.680000        member  \n",
       "4731079  41.720000 -87.680000        member  \n",
       "4731080  41.720000 -87.680000        member  \n",
       "\n",
       "[4731081 rows x 13 columns]"
      ]
     },
     "execution_count": 19,
     "metadata": {},
     "output_type": "execute_result"
    }
   ],
   "source": [
    "raw_data_merge = raw_data_merge.reset_index()\n",
    "raw_data_merge = raw_data_merge.drop(['index'],axis = 1)\n",
    "raw_data_merge\n",
    "# data has been merged, including 4,731,081 records and 13 columns"
   ]
  },
  {
   "cell_type": "code",
   "execution_count": 20,
   "id": "218ba7d4",
   "metadata": {},
   "outputs": [
    {
     "name": "stdout",
     "output_type": "stream",
     "text": [
      "<class 'pandas.core.frame.DataFrame'>\n",
      "RangeIndex: 4731081 entries, 0 to 4731080\n",
      "Data columns (total 13 columns):\n",
      " #   Column              Dtype  \n",
      "---  ------              -----  \n",
      " 0   ride_id             object \n",
      " 1   rideable_type       object \n",
      " 2   started_at          object \n",
      " 3   ended_at            object \n",
      " 4   start_station_name  object \n",
      " 5   start_station_id    object \n",
      " 6   end_station_name    object \n",
      " 7   end_station_id      object \n",
      " 8   start_lat           float64\n",
      " 9   start_lng           float64\n",
      " 10  end_lat             float64\n",
      " 11  end_lng             float64\n",
      " 12  member_casual       object \n",
      "dtypes: float64(4), object(9)\n",
      "memory usage: 469.2+ MB\n"
     ]
    }
   ],
   "source": [
    "raw_data_merge.info()"
   ]
  },
  {
   "cell_type": "code",
   "execution_count": 21,
   "id": "2b2d7d0f",
   "metadata": {},
   "outputs": [
    {
     "data": {
      "text/html": [
       "<div>\n",
       "<style scoped>\n",
       "    .dataframe tbody tr th:only-of-type {\n",
       "        vertical-align: middle;\n",
       "    }\n",
       "\n",
       "    .dataframe tbody tr th {\n",
       "        vertical-align: top;\n",
       "    }\n",
       "\n",
       "    .dataframe thead th {\n",
       "        text-align: right;\n",
       "    }\n",
       "</style>\n",
       "<table border=\"1\" class=\"dataframe\">\n",
       "  <thead>\n",
       "    <tr style=\"text-align: right;\">\n",
       "      <th></th>\n",
       "      <th>started_at</th>\n",
       "      <th>ended_at</th>\n",
       "    </tr>\n",
       "  </thead>\n",
       "  <tbody>\n",
       "    <tr>\n",
       "      <th>0</th>\n",
       "      <td>2020-08-20 18:08:14</td>\n",
       "      <td>2020-08-20 18:17:51</td>\n",
       "    </tr>\n",
       "    <tr>\n",
       "      <th>1</th>\n",
       "      <td>2020-08-27 18:46:04</td>\n",
       "      <td>2020-08-27 19:54:51</td>\n",
       "    </tr>\n",
       "    <tr>\n",
       "      <th>2</th>\n",
       "      <td>2020-08-26 19:44:14</td>\n",
       "      <td>2020-08-26 21:53:07</td>\n",
       "    </tr>\n",
       "    <tr>\n",
       "      <th>3</th>\n",
       "      <td>2020-08-27 12:05:41</td>\n",
       "      <td>2020-08-27 12:53:45</td>\n",
       "    </tr>\n",
       "    <tr>\n",
       "      <th>4</th>\n",
       "      <td>2020-08-27 16:49:02</td>\n",
       "      <td>2020-08-27 16:59:49</td>\n",
       "    </tr>\n",
       "  </tbody>\n",
       "</table>\n",
       "</div>"
      ],
      "text/plain": [
       "            started_at             ended_at\n",
       "0  2020-08-20 18:08:14  2020-08-20 18:17:51\n",
       "1  2020-08-27 18:46:04  2020-08-27 19:54:51\n",
       "2  2020-08-26 19:44:14  2020-08-26 21:53:07\n",
       "3  2020-08-27 12:05:41  2020-08-27 12:53:45\n",
       "4  2020-08-27 16:49:02  2020-08-27 16:59:49"
      ]
     },
     "execution_count": 21,
     "metadata": {},
     "output_type": "execute_result"
    }
   ],
   "source": [
    "raw_data_merge[['started_at','ended_at']].head()"
   ]
  },
  {
   "cell_type": "code",
   "execution_count": 22,
   "id": "0d485d5c",
   "metadata": {},
   "outputs": [],
   "source": [
    "# convert data type of \"started_at\" and \"ended_at\" from \"object\" to \"datetime\"\n",
    "raw_data_merge['started_at'] = pd.to_datetime(raw_data_merge['started_at'], format = '%Y-%m-%d %H:%M:%S' )\n",
    "raw_data_merge['ended_at'] = pd.to_datetime(raw_data_merge['ended_at'], format = '%Y-%m-%d %H:%M:%S' )"
   ]
  },
  {
   "cell_type": "code",
   "execution_count": 23,
   "id": "b1c3a03b",
   "metadata": {},
   "outputs": [
    {
     "name": "stdout",
     "output_type": "stream",
     "text": [
      "<class 'pandas.core.frame.DataFrame'>\n",
      "RangeIndex: 4731081 entries, 0 to 4731080\n",
      "Data columns (total 13 columns):\n",
      " #   Column              Dtype         \n",
      "---  ------              -----         \n",
      " 0   ride_id             object        \n",
      " 1   rideable_type       object        \n",
      " 2   started_at          datetime64[ns]\n",
      " 3   ended_at            datetime64[ns]\n",
      " 4   start_station_name  object        \n",
      " 5   start_station_id    object        \n",
      " 6   end_station_name    object        \n",
      " 7   end_station_id      object        \n",
      " 8   start_lat           float64       \n",
      " 9   start_lng           float64       \n",
      " 10  end_lat             float64       \n",
      " 11  end_lng             float64       \n",
      " 12  member_casual       object        \n",
      "dtypes: datetime64[ns](2), float64(4), object(7)\n",
      "memory usage: 469.2+ MB\n"
     ]
    }
   ],
   "source": [
    "raw_data_merge.info()"
   ]
  },
  {
   "cell_type": "markdown",
   "id": "62d38161",
   "metadata": {},
   "source": [
    "## Checking missing values, duplicated records"
   ]
  },
  {
   "cell_type": "code",
   "execution_count": 24,
   "id": "32b0df5c",
   "metadata": {},
   "outputs": [
    {
     "data": {
      "text/plain": [
       "count     4731081\n",
       "unique          1\n",
       "top         False\n",
       "freq      4731081\n",
       "dtype: object"
      ]
     },
     "execution_count": 24,
     "metadata": {},
     "output_type": "execute_result"
    }
   ],
   "source": [
    "raw_data_merge.duplicated().describe()\n",
    "# no duplicated records"
   ]
  },
  {
   "cell_type": "code",
   "execution_count": 25,
   "id": "73da00e4",
   "metadata": {},
   "outputs": [
    {
     "data": {
      "text/plain": [
       "(4731081, 13)"
      ]
     },
     "execution_count": 25,
     "metadata": {},
     "output_type": "execute_result"
    }
   ],
   "source": [
    "raw_data_merge.shape"
   ]
  },
  {
   "cell_type": "code",
   "execution_count": 26,
   "id": "071bc0de",
   "metadata": {},
   "outputs": [
    {
     "data": {
      "text/plain": [
       "(4731081, 13)"
      ]
     },
     "execution_count": 26,
     "metadata": {},
     "output_type": "execute_result"
    }
   ],
   "source": [
    "raw_data_merge.drop_duplicates().shape"
   ]
  },
  {
   "cell_type": "code",
   "execution_count": 27,
   "id": "cb366480",
   "metadata": {},
   "outputs": [
    {
     "data": {
      "text/plain": [
       "ride_id                    0\n",
       "rideable_type              0\n",
       "started_at                 0\n",
       "ended_at                   0\n",
       "start_station_name    369182\n",
       "start_station_id      369804\n",
       "end_station_name      407300\n",
       "end_station_id        407759\n",
       "start_lat                  0\n",
       "start_lng                  0\n",
       "end_lat                 5247\n",
       "end_lng                 5247\n",
       "member_casual              0\n",
       "dtype: int64"
      ]
     },
     "execution_count": 27,
     "metadata": {},
     "output_type": "execute_result"
    }
   ],
   "source": [
    "raw_data_merge.isnull().sum()\n",
    "# The dataset contains around 10% missing value in columns \"station_name\" and \"station_id\". \n",
    "# However, note that there is no missing value in \"start_lat\" and \"start_lng\", and around 0.1% missing value in \"end_lat\" and \"end_lng\", \n",
    "# These value represent the location of station.\n",
    "# I will use these value for further analysis instead of station name."
   ]
  },
  {
   "cell_type": "code",
   "execution_count": 28,
   "id": "d7e46444",
   "metadata": {},
   "outputs": [],
   "source": [
    "# Create check point\n",
    "raw_data_merge_copy = raw_data_merge.copy()"
   ]
  },
  {
   "cell_type": "markdown",
   "id": "1d8eb7fd",
   "metadata": {},
   "source": [
    "## Manipulate dataset, create variables of interest for analysis"
   ]
  },
  {
   "cell_type": "code",
   "execution_count": 29,
   "id": "2f8a78cb",
   "metadata": {},
   "outputs": [
    {
     "data": {
      "text/html": [
       "<div>\n",
       "<style scoped>\n",
       "    .dataframe tbody tr th:only-of-type {\n",
       "        vertical-align: middle;\n",
       "    }\n",
       "\n",
       "    .dataframe tbody tr th {\n",
       "        vertical-align: top;\n",
       "    }\n",
       "\n",
       "    .dataframe thead th {\n",
       "        text-align: right;\n",
       "    }\n",
       "</style>\n",
       "<table border=\"1\" class=\"dataframe\">\n",
       "  <thead>\n",
       "    <tr style=\"text-align: right;\">\n",
       "      <th></th>\n",
       "      <th>start_location</th>\n",
       "      <th>end_location</th>\n",
       "    </tr>\n",
       "  </thead>\n",
       "  <tbody>\n",
       "    <tr>\n",
       "      <th>0</th>\n",
       "      <td>41.933/-87.636</td>\n",
       "      <td>41.916/-87.635</td>\n",
       "    </tr>\n",
       "    <tr>\n",
       "      <th>1</th>\n",
       "      <td>41.864/-87.624</td>\n",
       "      <td>41.864/-87.623</td>\n",
       "    </tr>\n",
       "    <tr>\n",
       "      <th>2</th>\n",
       "      <td>41.885/-87.62</td>\n",
       "      <td>41.885/-87.628</td>\n",
       "    </tr>\n",
       "    <tr>\n",
       "      <th>3</th>\n",
       "      <td>41.884/-87.63</td>\n",
       "      <td>41.89/-87.628</td>\n",
       "    </tr>\n",
       "    <tr>\n",
       "      <th>4</th>\n",
       "      <td>41.903/-87.684</td>\n",
       "      <td>41.903/-87.684</td>\n",
       "    </tr>\n",
       "  </tbody>\n",
       "</table>\n",
       "</div>"
      ],
      "text/plain": [
       "   start_location    end_location\n",
       "0  41.933/-87.636  41.916/-87.635\n",
       "1  41.864/-87.624  41.864/-87.623\n",
       "2   41.885/-87.62  41.885/-87.628\n",
       "3   41.884/-87.63   41.89/-87.628\n",
       "4  41.903/-87.684  41.903/-87.684"
      ]
     },
     "execution_count": 29,
     "metadata": {},
     "output_type": "execute_result"
    }
   ],
   "source": [
    "# round the value in \"lat\" and \"lng\"\n",
    "raw_data_merge_copy['start_lat_round'] = raw_data_merge_copy['start_lat'].round(3)\n",
    "raw_data_merge_copy['start_lng_round'] = raw_data_merge_copy['start_lng'].round(3)\n",
    "raw_data_merge_copy['end_lat_round'] = raw_data_merge_copy['end_lat'].round(3)\n",
    "raw_data_merge_copy['end_lng_round'] = raw_data_merge_copy['end_lng'].round(3)\n",
    "\n",
    "# combine latitude and longitude into one column\n",
    "raw_data_merge_copy['start_location'] = raw_data_merge_copy['start_lat_round'].map(str) + \"/\" + raw_data_merge_copy['start_lng_round'].map(str)\n",
    "raw_data_merge_copy['end_location'] = raw_data_merge_copy['end_lat_round'].round(3).map(str) + \"/\" + raw_data_merge_copy['end_lng_round'].round(3).map(str)\n",
    "raw_data_merge_copy[['start_location','end_location']].head()"
   ]
  },
  {
   "cell_type": "code",
   "execution_count": 30,
   "id": "f1a611f2",
   "metadata": {},
   "outputs": [],
   "source": [
    "# calculate year, month, day of week, hour\n",
    "raw_data_merge_copy['year'] = raw_data_merge_copy['started_at'].dt.year\n",
    "raw_data_merge_copy['month'] = raw_data_merge_copy['started_at'].dt.month\n",
    "raw_data_merge_copy['day_of_week'] = raw_data_merge_copy['started_at'].dt.day_name()\n",
    "raw_data_merge_copy['hour'] = raw_data_merge_copy['started_at'].dt.hour\n",
    "raw_data_merge_copy[['year','month','hour']] = raw_data_merge_copy[['year','month','hour']].astype('object')"
   ]
  },
  {
   "cell_type": "code",
   "execution_count": 31,
   "id": "721a01f4",
   "metadata": {},
   "outputs": [
    {
     "data": {
      "text/html": [
       "<div>\n",
       "<style scoped>\n",
       "    .dataframe tbody tr th:only-of-type {\n",
       "        vertical-align: middle;\n",
       "    }\n",
       "\n",
       "    .dataframe tbody tr th {\n",
       "        vertical-align: top;\n",
       "    }\n",
       "\n",
       "    .dataframe thead th {\n",
       "        text-align: right;\n",
       "    }\n",
       "</style>\n",
       "<table border=\"1\" class=\"dataframe\">\n",
       "  <thead>\n",
       "    <tr style=\"text-align: right;\">\n",
       "      <th></th>\n",
       "      <th>year</th>\n",
       "      <th>month</th>\n",
       "      <th>hour</th>\n",
       "      <th>day_of_week</th>\n",
       "      <th>ride_duration</th>\n",
       "    </tr>\n",
       "  </thead>\n",
       "  <tbody>\n",
       "    <tr>\n",
       "      <th>0</th>\n",
       "      <td>2020</td>\n",
       "      <td>8</td>\n",
       "      <td>18</td>\n",
       "      <td>Thursday</td>\n",
       "      <td>0.160278</td>\n",
       "    </tr>\n",
       "    <tr>\n",
       "      <th>1</th>\n",
       "      <td>2020</td>\n",
       "      <td>8</td>\n",
       "      <td>18</td>\n",
       "      <td>Thursday</td>\n",
       "      <td>1.146389</td>\n",
       "    </tr>\n",
       "    <tr>\n",
       "      <th>2</th>\n",
       "      <td>2020</td>\n",
       "      <td>8</td>\n",
       "      <td>19</td>\n",
       "      <td>Wednesday</td>\n",
       "      <td>2.148056</td>\n",
       "    </tr>\n",
       "    <tr>\n",
       "      <th>3</th>\n",
       "      <td>2020</td>\n",
       "      <td>8</td>\n",
       "      <td>12</td>\n",
       "      <td>Thursday</td>\n",
       "      <td>0.801111</td>\n",
       "    </tr>\n",
       "    <tr>\n",
       "      <th>4</th>\n",
       "      <td>2020</td>\n",
       "      <td>8</td>\n",
       "      <td>16</td>\n",
       "      <td>Thursday</td>\n",
       "      <td>0.179722</td>\n",
       "    </tr>\n",
       "  </tbody>\n",
       "</table>\n",
       "</div>"
      ],
      "text/plain": [
       "   year month hour day_of_week  ride_duration\n",
       "0  2020     8   18    Thursday       0.160278\n",
       "1  2020     8   18    Thursday       1.146389\n",
       "2  2020     8   19   Wednesday       2.148056\n",
       "3  2020     8   12    Thursday       0.801111\n",
       "4  2020     8   16    Thursday       0.179722"
      ]
     },
     "execution_count": 31,
     "metadata": {},
     "output_type": "execute_result"
    }
   ],
   "source": [
    "# calculate ride duration\n",
    "raw_data_merge_copy['ride_duration'] = (raw_data_merge_copy['ended_at'] - raw_data_merge_copy['started_at']).values/np.timedelta64(1,'h')\n",
    "raw_data_merge_copy[['year','month','hour','day_of_week','ride_duration']].head()"
   ]
  },
  {
   "cell_type": "code",
   "execution_count": 32,
   "id": "dc27e606",
   "metadata": {},
   "outputs": [
    {
     "data": {
      "text/plain": [
       "count    4.731081e+06\n",
       "mean     3.699713e-01\n",
       "std      5.554284e+00\n",
       "min     -4.841661e+02\n",
       "25%      1.219444e-01\n",
       "50%      2.194444e-01\n",
       "75%      4.013889e-01\n",
       "max      9.324025e+02\n",
       "Name: ride_duration, dtype: float64"
      ]
     },
     "execution_count": 32,
     "metadata": {},
     "output_type": "execute_result"
    }
   ],
   "source": [
    "raw_data_merge_copy['ride_duration'].describe()"
   ]
  },
  {
   "cell_type": "code",
   "execution_count": 33,
   "id": "28b8e319",
   "metadata": {},
   "outputs": [],
   "source": [
    "# note that there are negative values in \"ride_duration\"\n",
    "# remove those bad data\n",
    "cleaned_data = raw_data_merge_copy.drop(raw_data_merge_copy[raw_data_merge_copy.ride_duration<=0].index)"
   ]
  },
  {
   "cell_type": "code",
   "execution_count": 34,
   "id": "0cdc8dd4",
   "metadata": {},
   "outputs": [],
   "source": [
    "cleaned_data = cleaned_data.reset_index()\n",
    "cleaned_data = cleaned_data.drop(['index'], axis=1)"
   ]
  },
  {
   "cell_type": "code",
   "execution_count": 35,
   "id": "b63919bc",
   "metadata": {},
   "outputs": [
    {
     "name": "stdout",
     "output_type": "stream",
     "text": [
      "<class 'pandas.core.frame.DataFrame'>\n",
      "RangeIndex: 4722462 entries, 0 to 4722461\n",
      "Data columns (total 24 columns):\n",
      " #   Column              Dtype         \n",
      "---  ------              -----         \n",
      " 0   ride_id             object        \n",
      " 1   rideable_type       object        \n",
      " 2   started_at          datetime64[ns]\n",
      " 3   ended_at            datetime64[ns]\n",
      " 4   start_station_name  object        \n",
      " 5   start_station_id    object        \n",
      " 6   end_station_name    object        \n",
      " 7   end_station_id      object        \n",
      " 8   start_lat           float64       \n",
      " 9   start_lng           float64       \n",
      " 10  end_lat             float64       \n",
      " 11  end_lng             float64       \n",
      " 12  member_casual       object        \n",
      " 13  start_lat_round     float64       \n",
      " 14  start_lng_round     float64       \n",
      " 15  end_lat_round       float64       \n",
      " 16  end_lng_round       float64       \n",
      " 17  start_location      object        \n",
      " 18  end_location        object        \n",
      " 19  year                object        \n",
      " 20  month               object        \n",
      " 21  day_of_week         object        \n",
      " 22  hour                object        \n",
      " 23  ride_duration       float64       \n",
      "dtypes: datetime64[ns](2), float64(9), object(13)\n",
      "memory usage: 864.7+ MB\n"
     ]
    }
   ],
   "source": [
    "cleaned_data.info()"
   ]
  },
  {
   "cell_type": "markdown",
   "id": "a2523ce6",
   "metadata": {},
   "source": [
    "## Data analysis"
   ]
  },
  {
   "cell_type": "markdown",
   "id": "5bb11e9e",
   "metadata": {},
   "source": [
    "### Calculation the usage different between member and casual riders"
   ]
  },
  {
   "cell_type": "code",
   "execution_count": 36,
   "id": "97595ae6",
   "metadata": {},
   "outputs": [],
   "source": [
    "# check the usage count for member or casual riders\n",
    "count_mem_cas = cleaned_data.groupby(['rideable_type','member_casual']).count().reset_index()[['rideable_type','member_casual','ride_id']]"
   ]
  },
  {
   "cell_type": "code",
   "execution_count": 37,
   "id": "bf1ad2f6",
   "metadata": {},
   "outputs": [
    {
     "data": {
      "text/html": [
       "<div>\n",
       "<style scoped>\n",
       "    .dataframe tbody tr th:only-of-type {\n",
       "        vertical-align: middle;\n",
       "    }\n",
       "\n",
       "    .dataframe tbody tr th {\n",
       "        vertical-align: top;\n",
       "    }\n",
       "\n",
       "    .dataframe thead th {\n",
       "        text-align: right;\n",
       "    }\n",
       "</style>\n",
       "<table border=\"1\" class=\"dataframe\">\n",
       "  <thead>\n",
       "    <tr style=\"text-align: right;\">\n",
       "      <th></th>\n",
       "      <th>rideable_type</th>\n",
       "      <th>member_casual</th>\n",
       "      <th>ride_id</th>\n",
       "    </tr>\n",
       "  </thead>\n",
       "  <tbody>\n",
       "    <tr>\n",
       "      <th>0</th>\n",
       "      <td>classic_bike</td>\n",
       "      <td>casual</td>\n",
       "      <td>695197</td>\n",
       "    </tr>\n",
       "    <tr>\n",
       "      <th>1</th>\n",
       "      <td>classic_bike</td>\n",
       "      <td>member</td>\n",
       "      <td>1090180</td>\n",
       "    </tr>\n",
       "    <tr>\n",
       "      <th>2</th>\n",
       "      <td>docked_bike</td>\n",
       "      <td>casual</td>\n",
       "      <td>757973</td>\n",
       "    </tr>\n",
       "    <tr>\n",
       "      <th>3</th>\n",
       "      <td>docked_bike</td>\n",
       "      <td>member</td>\n",
       "      <td>792294</td>\n",
       "    </tr>\n",
       "    <tr>\n",
       "      <th>4</th>\n",
       "      <td>electric_bike</td>\n",
       "      <td>casual</td>\n",
       "      <td>646272</td>\n",
       "    </tr>\n",
       "    <tr>\n",
       "      <th>5</th>\n",
       "      <td>electric_bike</td>\n",
       "      <td>member</td>\n",
       "      <td>740546</td>\n",
       "    </tr>\n",
       "  </tbody>\n",
       "</table>\n",
       "</div>"
      ],
      "text/plain": [
       "   rideable_type member_casual  ride_id\n",
       "0   classic_bike        casual   695197\n",
       "1   classic_bike        member  1090180\n",
       "2    docked_bike        casual   757973\n",
       "3    docked_bike        member   792294\n",
       "4  electric_bike        casual   646272\n",
       "5  electric_bike        member   740546"
      ]
     },
     "execution_count": 37,
     "metadata": {},
     "output_type": "execute_result"
    }
   ],
   "source": [
    "count_mem_cas"
   ]
  },
  {
   "cell_type": "code",
   "execution_count": 38,
   "id": "4ca9a73e",
   "metadata": {},
   "outputs": [
    {
     "data": {
      "image/png": "[encoded data removed]",
      "text/plain": [
       "<Figure size 432x288 with 1 Axes>"
      ]
     },
     "metadata": {},
     "output_type": "display_data"
    }
   ],
   "source": [
    "# create pie chart\n",
    "labels = [\"casual_classic\",\"member_classic\",\"casual_docked\",\"member_docked\",\"casual_electric\",\"member_electric\"]\n",
    "colours = [\"red\",\"blue\",\"darkred\",\"darkblue\",\"orange\",\"lightskyblue\"]\n",
    "plt.axes(aspect='equal')\n",
    "plt.pie(x = count_mem_cas['ride_id'], labels = labels, \n",
    "        colors = colours, wedgeprops = {\"edgecolor\": \"black\"}, \n",
    "        autopct = \"%1.1f%%\",\n",
    "        textprops= {'fontsize':12,'color':'black'})\n",
    "plt.xticks(())\n",
    "plt.yticks(())\n",
    "plt.title('total count for different rideable type')\n",
    "plt.show()"
   ]
  },
  {
   "cell_type": "code",
   "execution_count": 39,
   "id": "9c700454",
   "metadata": {},
   "outputs": [],
   "source": [
    "# calculate the total duration\n",
    "sum_mem_cas = cleaned_data.groupby(['rideable_type','member_casual']).sum().reset_index()[['rideable_type','member_casual','ride_duration']]"
   ]
  },
  {
   "cell_type": "code",
   "execution_count": 40,
   "id": "4ae8fa6b",
   "metadata": {},
   "outputs": [
    {
     "data": {
      "text/html": [
       "<div>\n",
       "<style scoped>\n",
       "    .dataframe tbody tr th:only-of-type {\n",
       "        vertical-align: middle;\n",
       "    }\n",
       "\n",
       "    .dataframe tbody tr th {\n",
       "        vertical-align: top;\n",
       "    }\n",
       "\n",
       "    .dataframe thead th {\n",
       "        text-align: right;\n",
       "    }\n",
       "</style>\n",
       "<table border=\"1\" class=\"dataframe\">\n",
       "  <thead>\n",
       "    <tr style=\"text-align: right;\">\n",
       "      <th></th>\n",
       "      <th>rideable_type</th>\n",
       "      <th>member_casual</th>\n",
       "      <th>ride_duration</th>\n",
       "    </tr>\n",
       "  </thead>\n",
       "  <tbody>\n",
       "    <tr>\n",
       "      <th>0</th>\n",
       "      <td>classic_bike</td>\n",
       "      <td>casual</td>\n",
       "      <td>351988.781389</td>\n",
       "    </tr>\n",
       "    <tr>\n",
       "      <th>1</th>\n",
       "      <td>classic_bike</td>\n",
       "      <td>member</td>\n",
       "      <td>267741.244444</td>\n",
       "    </tr>\n",
       "    <tr>\n",
       "      <th>2</th>\n",
       "      <td>docked_bike</td>\n",
       "      <td>casual</td>\n",
       "      <td>702125.876389</td>\n",
       "    </tr>\n",
       "    <tr>\n",
       "      <th>3</th>\n",
       "      <td>docked_bike</td>\n",
       "      <td>member</td>\n",
       "      <td>208806.983611</td>\n",
       "    </tr>\n",
       "    <tr>\n",
       "      <th>4</th>\n",
       "      <td>electric_bike</td>\n",
       "      <td>casual</td>\n",
       "      <td>232238.874722</td>\n",
       "    </tr>\n",
       "    <tr>\n",
       "      <th>5</th>\n",
       "      <td>electric_bike</td>\n",
       "      <td>member</td>\n",
       "      <td>167714.184167</td>\n",
       "    </tr>\n",
       "  </tbody>\n",
       "</table>\n",
       "</div>"
      ],
      "text/plain": [
       "   rideable_type member_casual  ride_duration\n",
       "0   classic_bike        casual  351988.781389\n",
       "1   classic_bike        member  267741.244444\n",
       "2    docked_bike        casual  702125.876389\n",
       "3    docked_bike        member  208806.983611\n",
       "4  electric_bike        casual  232238.874722\n",
       "5  electric_bike        member  167714.184167"
      ]
     },
     "execution_count": 40,
     "metadata": {},
     "output_type": "execute_result"
    }
   ],
   "source": [
    "sum_mem_cas"
   ]
  },
  {
   "cell_type": "code",
   "execution_count": 41,
   "id": "b0cfe070",
   "metadata": {},
   "outputs": [
    {
     "data": {
      "image/png": "[encoded data removed]",
      "text/plain": [
       "<Figure size 432x288 with 1 Axes>"
      ]
     },
     "metadata": {},
     "output_type": "display_data"
    }
   ],
   "source": [
    "# create pie chart\n",
    "labels = [\"casual_classic\",\"member_classic\",\"casual_docked\",\"member_docked\",\"casual_electric\",\"member_electric\"]\n",
    "colours = [\"red\",\"blue\",\"darkred\",\"darkblue\",\"orange\",\"lightskyblue\"]\n",
    "plt.axes(aspect='equal')\n",
    "plt.pie(x = sum_mem_cas['ride_duration'], labels = labels, \n",
    "        colors = colours, wedgeprops = {\"edgecolor\": \"black\"}, \n",
    "        autopct = \"%1.1f%%\",\n",
    "        textprops= {'fontsize':12,'color':'black'})\n",
    "plt.xticks(())\n",
    "plt.yticks(())\n",
    "plt.title('ride duration for different rideable type')\n",
    "plt.show()"
   ]
  },
  {
   "cell_type": "markdown",
   "id": "d224d5ce",
   "metadata": {},
   "source": [
    "### Calculate the most popular station for shared bike"
   ]
  },
  {
   "cell_type": "code",
   "execution_count": 42,
   "id": "8e3dcdf2",
   "metadata": {},
   "outputs": [],
   "source": [
    "# calculate count for different location\n",
    "count_start_location = cleaned_data.groupby(['start_location']).count().reset_index()[['start_location','ride_id']]\n",
    "most_frequent_location = count_start_location.sort_values(by ='ride_id',axis=0,ascending=False).head(20)"
   ]
  },
  {
   "cell_type": "code",
   "execution_count": 43,
   "id": "80e53703",
   "metadata": {},
   "outputs": [],
   "source": [
    "most_frequent_location = most_frequent_location.reset_index()\n",
    "most_frequent_location = most_frequent_location.drop(['index'], axis=1)"
   ]
  },
  {
   "cell_type": "code",
   "execution_count": 44,
   "id": "0847bfed",
   "metadata": {},
   "outputs": [],
   "source": [
    "most_frequent_location['station_name'] = np.nan"
   ]
  },
  {
   "cell_type": "code",
   "execution_count": 45,
   "id": "9ab3ba9b",
   "metadata": {},
   "outputs": [
    {
     "data": {
      "text/html": [
       "<div>\n",
       "<style scoped>\n",
       "    .dataframe tbody tr th:only-of-type {\n",
       "        vertical-align: middle;\n",
       "    }\n",
       "\n",
       "    .dataframe tbody tr th {\n",
       "        vertical-align: top;\n",
       "    }\n",
       "\n",
       "    .dataframe thead th {\n",
       "        text-align: right;\n",
       "    }\n",
       "</style>\n",
       "<table border=\"1\" class=\"dataframe\">\n",
       "  <thead>\n",
       "    <tr style=\"text-align: right;\">\n",
       "      <th></th>\n",
       "      <th>start_location</th>\n",
       "      <th>ride_id</th>\n",
       "      <th>station_name</th>\n",
       "    </tr>\n",
       "  </thead>\n",
       "  <tbody>\n",
       "    <tr>\n",
       "      <th>0</th>\n",
       "      <td>41.892/-87.612</td>\n",
       "      <td>66498</td>\n",
       "      <td>NaN</td>\n",
       "    </tr>\n",
       "    <tr>\n",
       "      <th>1</th>\n",
       "      <td>41.881/-87.617</td>\n",
       "      <td>45622</td>\n",
       "      <td>NaN</td>\n",
       "    </tr>\n",
       "    <tr>\n",
       "      <th>2</th>\n",
       "      <td>41.912/-87.627</td>\n",
       "      <td>42277</td>\n",
       "      <td>NaN</td>\n",
       "    </tr>\n",
       "    <tr>\n",
       "      <th>3</th>\n",
       "      <td>41.926/-87.631</td>\n",
       "      <td>40283</td>\n",
       "      <td>NaN</td>\n",
       "    </tr>\n",
       "    <tr>\n",
       "      <th>4</th>\n",
       "      <td>41.901/-87.624</td>\n",
       "      <td>38356</td>\n",
       "      <td>NaN</td>\n",
       "    </tr>\n",
       "    <tr>\n",
       "      <th>5</th>\n",
       "      <td>41.881/-87.624</td>\n",
       "      <td>36933</td>\n",
       "      <td>NaN</td>\n",
       "    </tr>\n",
       "    <tr>\n",
       "      <th>6</th>\n",
       "      <td>41.912/-87.635</td>\n",
       "      <td>36552</td>\n",
       "      <td>NaN</td>\n",
       "    </tr>\n",
       "    <tr>\n",
       "      <th>7</th>\n",
       "      <td>41.903/-87.631</td>\n",
       "      <td>31702</td>\n",
       "      <td>NaN</td>\n",
       "    </tr>\n",
       "    <tr>\n",
       "      <th>8</th>\n",
       "      <td>41.918/-87.636</td>\n",
       "      <td>31040</td>\n",
       "      <td>NaN</td>\n",
       "    </tr>\n",
       "    <tr>\n",
       "      <th>9</th>\n",
       "      <td>41.916/-87.635</td>\n",
       "      <td>30525</td>\n",
       "      <td>NaN</td>\n",
       "    </tr>\n",
       "    <tr>\n",
       "      <th>10</th>\n",
       "      <td>41.894/-87.629</td>\n",
       "      <td>29420</td>\n",
       "      <td>NaN</td>\n",
       "    </tr>\n",
       "    <tr>\n",
       "      <th>11</th>\n",
       "      <td>41.868/-87.623</td>\n",
       "      <td>29402</td>\n",
       "      <td>NaN</td>\n",
       "    </tr>\n",
       "    <tr>\n",
       "      <th>12</th>\n",
       "      <td>41.938/-87.644</td>\n",
       "      <td>28892</td>\n",
       "      <td>NaN</td>\n",
       "    </tr>\n",
       "    <tr>\n",
       "      <th>13</th>\n",
       "      <td>41.891/-87.627</td>\n",
       "      <td>27190</td>\n",
       "      <td>NaN</td>\n",
       "    </tr>\n",
       "    <tr>\n",
       "      <th>14</th>\n",
       "      <td>41.895/-87.634</td>\n",
       "      <td>26835</td>\n",
       "      <td>NaN</td>\n",
       "    </tr>\n",
       "    <tr>\n",
       "      <th>15</th>\n",
       "      <td>41.903/-87.634</td>\n",
       "      <td>26231</td>\n",
       "      <td>NaN</td>\n",
       "    </tr>\n",
       "    <tr>\n",
       "      <th>16</th>\n",
       "      <td>41.922/-87.644</td>\n",
       "      <td>25984</td>\n",
       "      <td>NaN</td>\n",
       "    </tr>\n",
       "    <tr>\n",
       "      <th>17</th>\n",
       "      <td>41.894/-87.623</td>\n",
       "      <td>25262</td>\n",
       "      <td>NaN</td>\n",
       "    </tr>\n",
       "    <tr>\n",
       "      <th>18</th>\n",
       "      <td>41.889/-87.639</td>\n",
       "      <td>25072</td>\n",
       "      <td>NaN</td>\n",
       "    </tr>\n",
       "    <tr>\n",
       "      <th>19</th>\n",
       "      <td>41.907/-87.635</td>\n",
       "      <td>24482</td>\n",
       "      <td>NaN</td>\n",
       "    </tr>\n",
       "  </tbody>\n",
       "</table>\n",
       "</div>"
      ],
      "text/plain": [
       "    start_location  ride_id  station_name\n",
       "0   41.892/-87.612    66498           NaN\n",
       "1   41.881/-87.617    45622           NaN\n",
       "2   41.912/-87.627    42277           NaN\n",
       "3   41.926/-87.631    40283           NaN\n",
       "4   41.901/-87.624    38356           NaN\n",
       "5   41.881/-87.624    36933           NaN\n",
       "6   41.912/-87.635    36552           NaN\n",
       "7   41.903/-87.631    31702           NaN\n",
       "8   41.918/-87.636    31040           NaN\n",
       "9   41.916/-87.635    30525           NaN\n",
       "10  41.894/-87.629    29420           NaN\n",
       "11  41.868/-87.623    29402           NaN\n",
       "12  41.938/-87.644    28892           NaN\n",
       "13  41.891/-87.627    27190           NaN\n",
       "14  41.895/-87.634    26835           NaN\n",
       "15  41.903/-87.634    26231           NaN\n",
       "16  41.922/-87.644    25984           NaN\n",
       "17  41.894/-87.623    25262           NaN\n",
       "18  41.889/-87.639    25072           NaN\n",
       "19  41.907/-87.635    24482           NaN"
      ]
     },
     "execution_count": 45,
     "metadata": {},
     "output_type": "execute_result"
    }
   ],
   "source": [
    "most_frequent_location"
   ]
  },
  {
   "cell_type": "code",
   "execution_count": 46,
   "id": "0522fe44",
   "metadata": {},
   "outputs": [],
   "source": [
    "# find the station name for the specific location\n",
    "for i in range(len(most_frequent_location)):\n",
    "    location = most_frequent_location.iloc[i,0]\n",
    "    station_name = cleaned_data.loc[cleaned_data['start_location']==location,['start_station_name']].reset_index()\n",
    "    most_frequent_location.iloc[i,2] = station_name.iloc[i,1]"
   ]
  },
  {
   "cell_type": "code",
   "execution_count": 47,
   "id": "7ecf6d09",
   "metadata": {},
   "outputs": [
    {
     "data": {
      "text/html": [
       "<div>\n",
       "<style scoped>\n",
       "    .dataframe tbody tr th:only-of-type {\n",
       "        vertical-align: middle;\n",
       "    }\n",
       "\n",
       "    .dataframe tbody tr th {\n",
       "        vertical-align: top;\n",
       "    }\n",
       "\n",
       "    .dataframe thead th {\n",
       "        text-align: right;\n",
       "    }\n",
       "</style>\n",
       "<table border=\"1\" class=\"dataframe\">\n",
       "  <thead>\n",
       "    <tr style=\"text-align: right;\">\n",
       "      <th></th>\n",
       "      <th>start_location</th>\n",
       "      <th>ride_id</th>\n",
       "      <th>station_name</th>\n",
       "    </tr>\n",
       "  </thead>\n",
       "  <tbody>\n",
       "    <tr>\n",
       "      <th>0</th>\n",
       "      <td>41.892/-87.612</td>\n",
       "      <td>66498</td>\n",
       "      <td>Streeter Dr &amp; Grand Ave</td>\n",
       "    </tr>\n",
       "    <tr>\n",
       "      <th>1</th>\n",
       "      <td>41.881/-87.617</td>\n",
       "      <td>45622</td>\n",
       "      <td>Lake Shore Dr &amp; Monroe St</td>\n",
       "    </tr>\n",
       "    <tr>\n",
       "      <th>2</th>\n",
       "      <td>41.912/-87.627</td>\n",
       "      <td>42277</td>\n",
       "      <td>Lake Shore Dr &amp; North Blvd</td>\n",
       "    </tr>\n",
       "    <tr>\n",
       "      <th>3</th>\n",
       "      <td>41.926/-87.631</td>\n",
       "      <td>40283</td>\n",
       "      <td>Theater on the Lake</td>\n",
       "    </tr>\n",
       "    <tr>\n",
       "      <th>4</th>\n",
       "      <td>41.901/-87.624</td>\n",
       "      <td>38356</td>\n",
       "      <td>Michigan Ave &amp; Oak St</td>\n",
       "    </tr>\n",
       "    <tr>\n",
       "      <th>5</th>\n",
       "      <td>41.881/-87.624</td>\n",
       "      <td>36933</td>\n",
       "      <td>Millennium Park</td>\n",
       "    </tr>\n",
       "    <tr>\n",
       "      <th>6</th>\n",
       "      <td>41.912/-87.635</td>\n",
       "      <td>36552</td>\n",
       "      <td>Wells St &amp; Concord Ln</td>\n",
       "    </tr>\n",
       "    <tr>\n",
       "      <th>7</th>\n",
       "      <td>41.903/-87.631</td>\n",
       "      <td>31702</td>\n",
       "      <td>Clark St &amp; Elm St</td>\n",
       "    </tr>\n",
       "    <tr>\n",
       "      <th>8</th>\n",
       "      <td>41.918/-87.636</td>\n",
       "      <td>31040</td>\n",
       "      <td>Clark St &amp; Armitage Ave</td>\n",
       "    </tr>\n",
       "    <tr>\n",
       "      <th>9</th>\n",
       "      <td>41.916/-87.635</td>\n",
       "      <td>30525</td>\n",
       "      <td>Clark St &amp; Lincoln Ave</td>\n",
       "    </tr>\n",
       "    <tr>\n",
       "      <th>10</th>\n",
       "      <td>41.894/-87.629</td>\n",
       "      <td>29420</td>\n",
       "      <td>Dearborn St &amp; Erie St</td>\n",
       "    </tr>\n",
       "    <tr>\n",
       "      <th>11</th>\n",
       "      <td>41.868/-87.623</td>\n",
       "      <td>29402</td>\n",
       "      <td>Indiana Ave &amp; Roosevelt Rd</td>\n",
       "    </tr>\n",
       "    <tr>\n",
       "      <th>12</th>\n",
       "      <td>41.938/-87.644</td>\n",
       "      <td>28892</td>\n",
       "      <td>Broadway &amp; Barry Ave</td>\n",
       "    </tr>\n",
       "    <tr>\n",
       "      <th>13</th>\n",
       "      <td>41.891/-87.627</td>\n",
       "      <td>27190</td>\n",
       "      <td>Wabash Ave &amp; Grand Ave</td>\n",
       "    </tr>\n",
       "    <tr>\n",
       "      <th>14</th>\n",
       "      <td>41.895/-87.634</td>\n",
       "      <td>26835</td>\n",
       "      <td>Wells St &amp; Huron St</td>\n",
       "    </tr>\n",
       "    <tr>\n",
       "      <th>15</th>\n",
       "      <td>41.903/-87.634</td>\n",
       "      <td>26231</td>\n",
       "      <td>Wells St &amp; Elm St</td>\n",
       "    </tr>\n",
       "    <tr>\n",
       "      <th>16</th>\n",
       "      <td>41.922/-87.644</td>\n",
       "      <td>25984</td>\n",
       "      <td>Larrabee St &amp; Webster Ave</td>\n",
       "    </tr>\n",
       "    <tr>\n",
       "      <th>17</th>\n",
       "      <td>41.894/-87.623</td>\n",
       "      <td>25262</td>\n",
       "      <td>St. Clair St &amp; Erie St</td>\n",
       "    </tr>\n",
       "    <tr>\n",
       "      <th>18</th>\n",
       "      <td>41.889/-87.639</td>\n",
       "      <td>25072</td>\n",
       "      <td>Kingsbury St &amp; Kinzie St</td>\n",
       "    </tr>\n",
       "    <tr>\n",
       "      <th>19</th>\n",
       "      <td>41.907/-87.635</td>\n",
       "      <td>24482</td>\n",
       "      <td>Wells St &amp; Evergreen Ave</td>\n",
       "    </tr>\n",
       "  </tbody>\n",
       "</table>\n",
       "</div>"
      ],
      "text/plain": [
       "    start_location  ride_id                station_name\n",
       "0   41.892/-87.612    66498     Streeter Dr & Grand Ave\n",
       "1   41.881/-87.617    45622   Lake Shore Dr & Monroe St\n",
       "2   41.912/-87.627    42277  Lake Shore Dr & North Blvd\n",
       "3   41.926/-87.631    40283         Theater on the Lake\n",
       "4   41.901/-87.624    38356       Michigan Ave & Oak St\n",
       "5   41.881/-87.624    36933             Millennium Park\n",
       "6   41.912/-87.635    36552       Wells St & Concord Ln\n",
       "7   41.903/-87.631    31702           Clark St & Elm St\n",
       "8   41.918/-87.636    31040     Clark St & Armitage Ave\n",
       "9   41.916/-87.635    30525      Clark St & Lincoln Ave\n",
       "10  41.894/-87.629    29420       Dearborn St & Erie St\n",
       "11  41.868/-87.623    29402  Indiana Ave & Roosevelt Rd\n",
       "12  41.938/-87.644    28892        Broadway & Barry Ave\n",
       "13  41.891/-87.627    27190      Wabash Ave & Grand Ave\n",
       "14  41.895/-87.634    26835         Wells St & Huron St\n",
       "15  41.903/-87.634    26231           Wells St & Elm St\n",
       "16  41.922/-87.644    25984   Larrabee St & Webster Ave\n",
       "17  41.894/-87.623    25262      St. Clair St & Erie St\n",
       "18  41.889/-87.639    25072    Kingsbury St & Kinzie St\n",
       "19  41.907/-87.635    24482    Wells St & Evergreen Ave"
      ]
     },
     "execution_count": 47,
     "metadata": {},
     "output_type": "execute_result"
    }
   ],
   "source": [
    "most_frequent_location"
   ]
  },
  {
   "cell_type": "code",
   "execution_count": 48,
   "id": "1735229e",
   "metadata": {},
   "outputs": [
    {
     "data": {
      "image/png": "[encoded data removed]",
      "text/plain": [
       "<Figure size 432x360 with 1 Axes>"
      ]
     },
     "metadata": {},
     "output_type": "display_data"
    }
   ],
   "source": [
    "fig, ax = plt.subplots(figsize=(6, 5))\n",
    "most_frequent_location.plot(x = 'station_name',kind = 'barh',mark_right = True,color=['blue'],width=0.8,ax=ax)\n",
    "plt.xlabel('Count', size=12)\n",
    "plt.ylabel('Station name', size=12)\n",
    "plt.title('Number of usage', size=18)\n",
    "plt.legend(loc='upper left');"
   ]
  },
  {
   "cell_type": "markdown",
   "id": "4c36665d",
   "metadata": {},
   "source": [
    "### Calculate the count of rides usage at the breakdown of months, day of week and hours"
   ]
  },
  {
   "cell_type": "code",
   "execution_count": 49,
   "id": "cd40944f",
   "metadata": {},
   "outputs": [],
   "source": [
    "# At breakdown of hours\n",
    "count_hour = cleaned_data.groupby(['member_casual','hour']).count().reset_index()[['member_casual','hour','ride_id']]"
   ]
  },
  {
   "cell_type": "code",
   "execution_count": 50,
   "id": "3fba1b66",
   "metadata": {},
   "outputs": [
    {
     "data": {
      "image/png": "[encoded data removed]",
      "text/plain": [
       "<Figure size 432x288 with 1 Axes>"
      ]
     },
     "metadata": {},
     "output_type": "display_data"
    }
   ],
   "source": [
    "count_hour_casual = count_hour.loc[count_hour['member_casual']=='casual',:]\n",
    "count_hour_member = count_hour.loc[count_hour['member_casual']=='member',:]\n",
    "x = np.arange(24)\n",
    "tick_label = count_hour_casual.loc[:,'hour']\n",
    "bar_width = 0.4\n",
    "plt.bar(x, count_hour_casual['ride_id'], bar_width, align='center', color='red',label='casual')\n",
    "plt.bar(x+bar_width, count_hour_member['ride_id'], bar_width, align='center', color='blue',label='member')\n",
    "plt.xlabel(\"Hour\")\n",
    "plt.ylabel(\"Count number of rides\")\n",
    "plt.xticks(x+bar_width/2, tick_label)\n",
    "plt.legend()\n",
    "plt.show()"
   ]
  },
  {
   "cell_type": "code",
   "execution_count": 51,
   "id": "1f877a81",
   "metadata": {},
   "outputs": [
    {
     "data": {
      "image/png": "[encoded data removed]",
      "text/plain": [
       "<Figure size 432x288 with 1 Axes>"
      ]
     },
     "metadata": {},
     "output_type": "display_data"
    }
   ],
   "source": [
    "# At breakdown of months\n",
    "count_month = cleaned_data.groupby(['member_casual','month']).count().reset_index()[['member_casual','month','ride_id']]\n",
    "count_month_casual = count_month.loc[count_month['member_casual']=='casual',:]\n",
    "count_month_member = count_month.loc[count_month['member_casual']=='member',:]\n",
    "x = np.arange(12)\n",
    "tick_label = count_month_casual.loc[:,'month']\n",
    "bar_width = 0.4\n",
    "plt.bar(x, count_month_casual['ride_id'], bar_width, align='center', color='red',label='casual')\n",
    "plt.bar(x+bar_width, count_month_member['ride_id'], bar_width, align='center', color='blue',label='member')\n",
    "plt.xlabel(\"Month\")\n",
    "plt.ylabel(\"Count number of rides\")\n",
    "plt.xticks(x+bar_width/2, tick_label)\n",
    "plt.legend()\n",
    "plt.show()"
   ]
  },
  {
   "cell_type": "code",
   "execution_count": 52,
   "id": "a1f2cd4d",
   "metadata": {},
   "outputs": [
    {
     "data": {
      "image/png": "[encoded data removed]",
      "text/plain": [
       "<Figure size 432x288 with 1 Axes>"
      ]
     },
     "metadata": {},
     "output_type": "display_data"
    }
   ],
   "source": [
    "# At breakdown of day of week\n",
    "count_day_of_week = cleaned_data.groupby(['member_casual','day_of_week']).count().reset_index()[['member_casual','day_of_week','ride_id']]\n",
    "count_day_of_week_casual = count_day_of_week.loc[count_day_of_week['member_casual']=='casual',:]\n",
    "count_day_of_week_member = count_day_of_week.loc[count_day_of_week['member_casual']=='member',:]\n",
    "x = np.arange(7)\n",
    "tick_label = count_day_of_week_casual.loc[:,'day_of_week']\n",
    "bar_width = 0.4\n",
    "plt.bar(x, count_day_of_week_casual['ride_id'], bar_width, align='center', color='red',label='casual')\n",
    "plt.bar(x+bar_width, count_day_of_week_member['ride_id'], bar_width, align='center', color='blue',label='member')\n",
    "plt.xlabel(\"Day_of_week\")\n",
    "plt.ylabel(\"Count number of rides\")\n",
    "plt.xticks(x+bar_width/2, tick_label)\n",
    "plt.legend()\n",
    "plt.show()"
   ]
  },
  {
   "cell_type": "markdown",
   "id": "6ecafb90",
   "metadata": {},
   "source": [
    "## Main findings:\n",
    "1. Casual ride is also an important part for shared bike business, accounting for 44.5% of total rides and 66.6% total ride duration.\n",
    "2. Casual rides have a distinguished peak value on Saturday and Sunday. On the other hand, member rides are relatively uniform during a week.\n",
    "3. Both casual and member rides have a higher volumes in summer time (June, July, August).\n",
    "4. Customers tends to use shared bike in afternoon, during 4pm to 6pm.\n",
    "5. The most popular station for share bike is \"Streeter Dr & Grand Ave\"."
   ]
  }
 ],
 "metadata": {
  "kernelspec": {
   "display_name": "Python 3",
   "language": "python",
   "name": "python3"
  },
  "language_info": {
   "codemirror_mode": {
    "name": "ipython",
    "version": 3
   },
   "file_extension": ".py",
   "mimetype": "text/x-python",
   "name": "python",
   "nbconvert_exporter": "python",
   "pygments_lexer": "ipython3",
   "version": "3.8.8"
  }
 },
 "nbformat": 4,
 "nbformat_minor": 5
}
